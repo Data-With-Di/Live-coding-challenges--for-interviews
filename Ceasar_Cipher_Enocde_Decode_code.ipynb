{
  "nbformat": 4,
  "nbformat_minor": 0,
  "metadata": {
    "colab": {
      "provenance": [],
      "authorship_tag": "ABX9TyNByrG//E0zy2ti1D0WCcP2",
      "include_colab_link": true
    },
    "kernelspec": {
      "name": "python3",
      "display_name": "Python 3"
    },
    "language_info": {
      "name": "python"
    }
  },
  "cells": [
    {
      "cell_type": "markdown",
      "metadata": {
        "id": "view-in-github",
        "colab_type": "text"
      },
      "source": [
        "<a href=\"https://colab.research.google.com/github/Data-With-Di/Live-coding-challenges--for-interviews/blob/main/Ceasar_Cipher_Enocde_Decode_code.ipynb\" target=\"_parent\"><img src=\"https://colab.research.google.com/assets/colab-badge.svg\" alt=\"Open In Colab\"/></a>"
      ]
    },
    {
      "cell_type": "code",
      "source": [],
      "metadata": {
        "id": "eCEpbL8igpp6"
      },
      "execution_count": null,
      "outputs": []
    },
    {
      "cell_type": "code",
      "source": [
        "class CeasarCipher:\n",
        "  def __init__(self, key, message):\n",
        "    self.key = key\n",
        "    self.message = message\n",
        "    self.alphabet = 'abcdefghijklmnopqrstuvwxyz'\n",
        "\n",
        "  def encrypter(self):\n",
        "    new_message = ''\n",
        "    for i in range(len(self.message)):\n",
        "      message = self.message.lower()\n",
        "      letter = message[i]\n",
        "      if letter in self.alphabet:\n",
        "        letter_index = self.alphabet.find(letter)\n",
        "        new_index = (letter_index + self.key) % len(self.alphabet)\n",
        "        new_letter = self.alphabet[new_index]\n",
        "        new_message += new_letter\n",
        "      else:\n",
        "        new_message += letter\n",
        "    return new_message\n",
        "\n",
        "  def decrypter(self):\n",
        "    new_message = ''\n",
        "    for i in range(len(self.message)):\n",
        "      message = self.message.lower()\n",
        "      letter = message[i]\n",
        "      if letter in self.alphabet:\n",
        "        letter_index = self.alphabet.find(letter)\n",
        "        new_index = (letter_index - self.key)\n",
        "        new_letter = self.alphabet[new_index]\n",
        "        new_message += new_letter\n",
        "      else:\n",
        "        new_message += letter\n",
        "\n",
        "    return new_message\n"
      ],
      "metadata": {
        "id": "RiDLXwWAguc_"
      },
      "execution_count": 1,
      "outputs": []
    },
    {
      "cell_type": "code",
      "source": [
        "message = 'N qtaj uwtlwfrrnsl zxnsl Udymts'\n",
        "key = 5\n",
        "\n",
        "cipher = CeasarCipher(key= key, message= message)\n",
        "decrypted_message = cipher.decrypter()\n",
        "\n",
        "print(decrypted_message)"
      ],
      "metadata": {
        "colab": {
          "base_uri": "https://localhost:8080/"
        },
        "id": "w6tH6rGC6yjK",
        "outputId": "732cc943-ad49-44dc-9d2a-d758575c6c40"
      },
      "execution_count": 2,
      "outputs": [
        {
          "output_type": "stream",
          "name": "stdout",
          "text": [
            "i love programming using python\n"
          ]
        }
      ]
    },
    {
      "cell_type": "code",
      "source": [
        "cipher = CeasarCipher(key= key, message= decrypted_message)\n",
        "encrypted_message = cipher.encrypter()\n",
        "print(encrypted_message)"
      ],
      "metadata": {
        "colab": {
          "base_uri": "https://localhost:8080/"
        },
        "id": "cYkcWXsjB6Kx",
        "outputId": "9a403031-f012-4e6d-8f6f-37f4759800a2"
      },
      "execution_count": 3,
      "outputs": [
        {
          "output_type": "stream",
          "name": "stdout",
          "text": [
            "n qtaj uwtlwfrrnsl zxnsl udymts\n"
          ]
        }
      ]
    }
  ]
}